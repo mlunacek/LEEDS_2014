{
 "metadata": {
  "name": "",
  "signature": "sha256:8aae4a0d6cf900727d58a1289d8dca2280605737d64c37bc1a79961bc732e746"
 },
 "nbformat": 3,
 "nbformat_minor": 0,
 "worksheets": [
  {
   "cells": [
    {
     "cell_type": "heading",
     "level": 1,
     "metadata": {},
     "source": [
      "Introduction to Python"
     ]
    },
    {
     "cell_type": "heading",
     "level": 2,
     "metadata": {},
     "source": [
      "What is Python?"
     ]
    },
    {
     "cell_type": "markdown",
     "metadata": {},
     "source": [
      "<blockquote>\n",
      "<p>\n",
      "Python is a general-purpose programming language that blends procedural, functional, and object-oriented paradigms\n",
      "<p>\n",
      "Mark Lutz, <a href=\"http://www.amazon.com/Learning-Python-Edition-Mark-Lutz/dp/1449355730\">Learning Python</a>\n",
      "</blockquote>"
     ]
    },
    {
     "cell_type": "markdown",
     "metadata": {},
     "source": [
      "* Simple, clean syntax\n",
      "* Easy to learn\n",
      "* Interpreted\n",
      "* Strong, dynamically typed\n",
      "* Runs everywhere: Linux, Mac, and Windows\n",
      "* [Free](http://www.fsf.org/) and open\n",
      "* Expressive: do more with fewer lines of code\n",
      "* Lean: **modules**\n",
      "* Options: **Procedural**, **object-oriented**, and **functional**."
     ]
    },
    {
     "cell_type": "heading",
     "level": 2,
     "metadata": {},
     "source": [
      "Python for Data Analysis"
     ]
    },
    {
     "cell_type": "markdown",
     "metadata": {},
     "source": [
      "<img src='https://s3.amazonaws.com/research_computing_tutorials/data_overview.png'></img>"
     ]
    },
    {
     "cell_type": "heading",
     "level": 2,
     "metadata": {},
     "source": [
      "Running `python` code"
     ]
    },
    {
     "cell_type": "markdown",
     "metadata": {},
     "source": [
      "There are several ways to run python scripts:\n",
      "- `cpython` (e.g. python )\n",
      "- `IPython` shell.\n",
      "- `IPython Notebook`\n",
      "\n",
      "We are going to focus on the `IPython Notebook`"
     ]
    },
    {
     "cell_type": "heading",
     "level": 3,
     "metadata": {},
     "source": [
      "`IPython` terminal"
     ]
    },
    {
     "cell_type": "markdown",
     "metadata": {},
     "source": [
      "<img src='https://s3.amazonaws.com/research_computing_tutorials/traditional.png'>"
     ]
    },
    {
     "cell_type": "heading",
     "level": 3,
     "metadata": {},
     "source": [
      "IPython Notebook"
     ]
    },
    {
     "cell_type": "markdown",
     "metadata": {},
     "source": [
      "Interactive web-based computing, data analysis, and documentation."
     ]
    },
    {
     "cell_type": "markdown",
     "metadata": {},
     "source": [
      "<img src='https://s3.amazonaws.com/research_computing_tutorials/notebook.png'>"
     ]
    },
    {
     "cell_type": "heading",
     "level": 3,
     "metadata": {},
     "source": [
      "Features"
     ]
    },
    {
     "cell_type": "markdown",
     "metadata": {},
     "source": [
      "Text, images, `Latex`, and `code`... easily shared!"
     ]
    },
    {
     "cell_type": "heading",
     "level": 4,
     "metadata": {},
     "source": [
      "Images"
     ]
    },
    {
     "cell_type": "markdown",
     "metadata": {},
     "source": [
      "        <img src='https://s3.amazonaws.com/research_computing_tutorials/monty-python.png' width=\"300\">\n",
      "        \n",
      "<img src='https://s3.amazonaws.com/research_computing_tutorials/monty-python.png' width=\"300\">"
     ]
    },
    {
     "cell_type": "heading",
     "level": 4,
     "metadata": {},
     "source": [
      "`Latex`"
     ]
    },
    {
     "cell_type": "markdown",
     "metadata": {},
     "source": [
      "        Latex $y = \\sqrt{a + b}$\n",
      "        \n",
      "Latex $y = \\sqrt{a + b}$"
     ]
    },
    {
     "cell_type": "heading",
     "level": 4,
     "metadata": {},
     "source": [
      "Sharing"
     ]
    },
    {
     "cell_type": "markdown",
     "metadata": {},
     "source": [
      "<img src='https://s3.amazonaws.com/research_computing_tutorials/share.png'>"
     ]
    },
    {
     "cell_type": "heading",
     "level": 3,
     "metadata": {},
     "source": [
      "Embeded plots and code"
     ]
    },
    {
     "cell_type": "code",
     "collapsed": false,
     "input": [
      "%matplotlib inline\n",
      "import matplotlib.pyplot as plt\n",
      "import numpy as np\n",
      "import utils\n",
      "x = np.random.randn(10000)\n",
      "plt.hist(x, bins=50)\n",
      "plt.show()"
     ],
     "language": "python",
     "metadata": {},
     "outputs": [
      {
       "metadata": {},
       "output_type": "display_data",
       "png": "[encoded data removed]",
       "text": [
        "<matplotlib.figure.Figure at 0x10775b350>"
       ]
      }
     ],
     "prompt_number": 2
    },
    {
     "cell_type": "heading",
     "level": 2,
     "metadata": {},
     "source": [
      "Hello world!"
     ]
    },
    {
     "cell_type": "code",
     "collapsed": false,
     "input": [
      "print('hello world')"
     ],
     "language": "python",
     "metadata": {},
     "outputs": [
      {
       "output_type": "stream",
       "stream": "stdout",
       "text": [
        "hello world\n"
       ]
      }
     ],
     "prompt_number": 2
    }
   ],
   "metadata": {}
  }
 ]
}