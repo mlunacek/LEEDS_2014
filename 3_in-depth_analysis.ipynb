{
 "metadata": {
  "name": "",
  "signature": "sha256:28ea8fe7e61cd2e0cb18356fa229d0df3fb6612c977b328010f95db80574cd27"
 },
 "nbformat": 3,
 "nbformat_minor": 0,
 "worksheets": [
  {
   "cells": [
    {
     "cell_type": "heading",
     "level": 1,
     "metadata": {},
     "source": [
      "In-depth Analysis: Movies Data"
     ]
    },
    {
     "cell_type": "markdown",
     "metadata": {},
     "source": [
      "This is adapted from [Python for Data Analysis](http://www.amazon.com/Python-Data-Analysis-Wrangling-IPython/dp/1449319793) by Wes McKinney\n",
      "\n",
      "- Joining\n",
      "- Groupby\n",
      "- Sorting"
     ]
    },
    {
     "cell_type": "code",
     "collapsed": false,
     "input": [
      "import os\n",
      "import pandas as pd"
     ],
     "language": "python",
     "metadata": {},
     "outputs": []
    },
    {
     "cell_type": "markdown",
     "metadata": {},
     "source": [
      "### Read in the movie data: `pd.read_table`"
     ]
    },
    {
     "cell_type": "code",
     "collapsed": false,
     "input": [
      "import os\n",
      "import urllib\n",
      "\n",
      "def get(f):\n",
      "    filename = os.path.join('data',f.split('/')[-1])\n",
      "    if not os.path.exists('data'):\n",
      "        os.mkdir('data')\n",
      "    if not os.path.exists(filename):\n",
      "        print('fetching from aws')\n",
      "        urllib.urlretrieve(f, filename=filename)\n",
      "        \n",
      "get('https://s3.amazonaws.com/research_computing_tutorials/users.dat')\n",
      "get('https://s3.amazonaws.com/research_computing_tutorials/movies.dat')\n",
      "get('https://s3.amazonaws.com/research_computing_tutorials/ratings.dat')        "
     ],
     "language": "python",
     "metadata": {},
     "outputs": []
    },
    {
     "cell_type": "code",
     "collapsed": false,
     "input": [
      "def get_movie_data():\n",
      "    \n",
      "    unames = ['user_id','gender','age','occupation','zip']\n",
      "    users = pd.read_table(os.path.join('data','users.dat'), \n",
      "                          sep='::', header=None, names=unames)\n",
      "    \n",
      "    rnames = ['user_id', 'movie_id', 'rating', 'timestamp']\n",
      "    ratings = pd.read_table(os.path.join('data', 'ratings.dat'), \n",
      "                            sep='::', header=None, names=rnames)\n",
      "    \n",
      "    mnames = ['movie_id', 'title','genres']\n",
      "    movies = pd.read_table(os.path.join('data', 'movies.dat'), \n",
      "                           sep='::', header=None, names=mnames)\n",
      "\n",
      "    return users, ratings, movies"
     ],
     "language": "python",
     "metadata": {},
     "outputs": []
    },
    {
     "cell_type": "code",
     "collapsed": false,
     "input": [
      "users, ratings, movies = get_movie_data()"
     ],
     "language": "python",
     "metadata": {},
     "outputs": []
    },
    {
     "cell_type": "code",
     "collapsed": false,
     "input": [
      "print users.head()"
     ],
     "language": "python",
     "metadata": {},
     "outputs": []
    },
    {
     "cell_type": "code",
     "collapsed": false,
     "input": [
      "print ratings.head()"
     ],
     "language": "python",
     "metadata": {},
     "outputs": []
    },
    {
     "cell_type": "code",
     "collapsed": false,
     "input": [
      "print movies.head()"
     ],
     "language": "python",
     "metadata": {},
     "outputs": []
    },
    {
     "cell_type": "markdown",
     "metadata": {},
     "source": [
      "### Clean up the `movies`\n",
      "\n",
      "- Get the `year`\n",
      "- Shorten the `title`\n",
      "\n",
      "This is dense code. Skip."
     ]
    },
    {
     "cell_type": "code",
     "collapsed": false,
     "input": [
      "tmp = movies.title.str.match('(.*) \\(([0-9]+)\\)')\n",
      "\n",
      "movies['year'] = tmp.map(lambda x: x[1] if len(x) > 0 else None)\n",
      "movies['short_title'] = tmp.map(lambda x: x[0][:40] if len(x) > 0 else None)"
     ],
     "language": "python",
     "metadata": {},
     "outputs": []
    },
    {
     "cell_type": "markdown",
     "metadata": {},
     "source": [
      "### Join the tables with `pd.merge`"
     ]
    },
    {
     "cell_type": "code",
     "collapsed": false,
     "input": [
      "data = pd.merge(pd.merge(ratings, users), movies)"
     ],
     "language": "python",
     "metadata": {},
     "outputs": []
    },
    {
     "cell_type": "code",
     "collapsed": false,
     "input": [
      "for c in data.columns:\n",
      "    print c"
     ],
     "language": "python",
     "metadata": {},
     "outputs": []
    },
    {
     "cell_type": "markdown",
     "metadata": {},
     "source": [
      "### What's the highest rated movie?"
     ]
    },
    {
     "cell_type": "code",
     "collapsed": false,
     "input": [
      "tmp = data[['short_title','rating']]\n",
      "print tmp.head()\n",
      "print len(tmp)"
     ],
     "language": "python",
     "metadata": {},
     "outputs": []
    },
    {
     "cell_type": "markdown",
     "metadata": {},
     "source": [
      "### Summary operations with `groupby`"
     ]
    },
    {
     "cell_type": "code",
     "collapsed": false,
     "input": [
      "grp = tmp.groupby('short_title')"
     ],
     "language": "python",
     "metadata": {},
     "outputs": []
    },
    {
     "cell_type": "code",
     "collapsed": false,
     "input": [
      "print type(grp)"
     ],
     "language": "python",
     "metadata": {},
     "outputs": []
    },
    {
     "cell_type": "markdown",
     "metadata": {},
     "source": [
      "Summary with `describe()`"
     ]
    },
    {
     "cell_type": "code",
     "collapsed": false,
     "input": [
      "mean_rating = grp.mean()\n",
      "print mean_rating.describe()"
     ],
     "language": "python",
     "metadata": {},
     "outputs": []
    },
    {
     "cell_type": "code",
     "collapsed": false,
     "input": [
      "print mean_rating.head()"
     ],
     "language": "python",
     "metadata": {},
     "outputs": []
    },
    {
     "cell_type": "markdown",
     "metadata": {},
     "source": [
      "Sort by `ratings` using the `sort()` method."
     ]
    },
    {
     "cell_type": "code",
     "collapsed": false,
     "input": [
      "print mean_rating.sort('rating', ascending=False).head(10)"
     ],
     "language": "python",
     "metadata": {},
     "outputs": []
    },
    {
     "cell_type": "markdown",
     "metadata": {},
     "source": [
      "Apply more than one function to the group with the `agg()` method."
     ]
    },
    {
     "cell_type": "code",
     "collapsed": false,
     "input": [
      "mean_rating = grp['rating'].agg(['mean','count'])\n",
      "print mean_rating.sort('mean', ascending=False).head(10)"
     ],
     "language": "python",
     "metadata": {},
     "outputs": []
    },
    {
     "cell_type": "heading",
     "level": 2,
     "metadata": {},
     "source": [
      "Threshold on the number of ratings"
     ]
    },
    {
     "cell_type": "code",
     "collapsed": false,
     "input": [
      "mask = mean_rating['count'] > 1000\n",
      "\n",
      "print type(mask)\n",
      "print sum(mask)\n",
      "print mask.head()"
     ],
     "language": "python",
     "metadata": {},
     "outputs": []
    },
    {
     "cell_type": "code",
     "collapsed": false,
     "input": [
      "print mean_rating.ix[mask].head()"
     ],
     "language": "python",
     "metadata": {},
     "outputs": []
    },
    {
     "cell_type": "code",
     "collapsed": false,
     "input": [
      "mean_rating.ix[mask]['count'].min()"
     ],
     "language": "python",
     "metadata": {},
     "outputs": []
    },
    {
     "cell_type": "markdown",
     "metadata": {},
     "source": [
      "###Highest rated movie with at least 1000 votes?"
     ]
    },
    {
     "cell_type": "code",
     "collapsed": false,
     "input": [
      "print mean_rating.ix[mask].sort('mean', ascending=False).head(10)"
     ],
     "language": "python",
     "metadata": {},
     "outputs": []
    },
    {
     "cell_type": "heading",
     "level": 3,
     "metadata": {},
     "source": [
      "What about gender?"
     ]
    },
    {
     "cell_type": "heading",
     "level": 4,
     "metadata": {},
     "source": [
      "Summary `pivot` with `pd.pivot_table`"
     ]
    },
    {
     "cell_type": "markdown",
     "metadata": {},
     "source": [
      "Like `pivot`, but will summarize and group."
     ]
    },
    {
     "cell_type": "code",
     "collapsed": false,
     "input": [
      "mean_ratings = pd.pivot_table(data, 'rating', rows='short_title', \n",
      "                              cols='gender', aggfunc='mean')\n",
      "print mean_ratings.head(10)"
     ],
     "language": "python",
     "metadata": {},
     "outputs": []
    },
    {
     "cell_type": "markdown",
     "metadata": {},
     "source": [
      "Only those that have at least 1000 votes."
     ]
    },
    {
     "cell_type": "code",
     "collapsed": false,
     "input": [
      "#pd.pivot_table?"
     ],
     "language": "python",
     "metadata": {},
     "outputs": []
    },
    {
     "cell_type": "code",
     "collapsed": false,
     "input": [
      "mean_ratings = mean_ratings.ix[mask]"
     ],
     "language": "python",
     "metadata": {},
     "outputs": []
    },
    {
     "cell_type": "markdown",
     "metadata": {},
     "source": [
      "###Favorites for `M`"
     ]
    },
    {
     "cell_type": "code",
     "collapsed": false,
     "input": [
      "print mean_ratings.sort('M', ascending=False).head(10)"
     ],
     "language": "python",
     "metadata": {},
     "outputs": []
    },
    {
     "cell_type": "markdown",
     "metadata": {},
     "source": [
      "###Favorites for `F`"
     ]
    },
    {
     "cell_type": "code",
     "collapsed": false,
     "input": [
      "print mean_ratings.sort('F', ascending=False).head(10)"
     ],
     "language": "python",
     "metadata": {},
     "outputs": []
    },
    {
     "cell_type": "markdown",
     "metadata": {},
     "source": [
      "### Which movies do differ the most in gender ratings?"
     ]
    },
    {
     "cell_type": "code",
     "collapsed": false,
     "input": [
      "mean_ratings['diff'] = abs(mean_ratings['M'] - mean_ratings['F'])"
     ],
     "language": "python",
     "metadata": {},
     "outputs": []
    },
    {
     "cell_type": "code",
     "collapsed": false,
     "input": [
      "mean_ratings.sort('diff', ascending=False).head(10)"
     ],
     "language": "python",
     "metadata": {},
     "outputs": []
    },
    {
     "cell_type": "code",
     "collapsed": false,
     "input": [
      "mean_ratings.sort('diff', ascending=True).head(10)"
     ],
     "language": "python",
     "metadata": {},
     "outputs": []
    },
    {
     "cell_type": "markdown",
     "metadata": {},
     "source": [
      "### Date-night pick?\n",
      "\n",
      "What's the highest rated movies where the difference is *minimal*?\n",
      "\n",
      "Let's pick out *minimal*."
     ]
    },
    {
     "cell_type": "code",
     "collapsed": false,
     "input": [
      "%matplotlib inline\n",
      "import matplotlib.pyplot as plt\n",
      "try:\n",
      "    import utils\n",
      "except ImportError:\n",
      "    pass"
     ],
     "language": "python",
     "metadata": {},
     "outputs": []
    },
    {
     "cell_type": "code",
     "collapsed": false,
     "input": [
      "mean_ratings['diff'].hist(alpha=0.75)\n",
      "plt.show()"
     ],
     "language": "python",
     "metadata": {},
     "outputs": []
    },
    {
     "cell_type": "code",
     "collapsed": false,
     "input": [
      "mean_ratings.hist(alpha=0.75)\n",
      "plt.show()"
     ],
     "language": "python",
     "metadata": {},
     "outputs": []
    },
    {
     "cell_type": "markdown",
     "metadata": {},
     "source": [
      "How about `diff < 0.05` and `rating > 4.25`?"
     ]
    },
    {
     "cell_type": "code",
     "collapsed": false,
     "input": [
      "diff_mask = mean_ratings['diff'] < 0.05 \n",
      "m_mask = mean_ratings['M'] > 4.25\n",
      "f_mask = mean_ratings['F'] > 4.25"
     ],
     "language": "python",
     "metadata": {},
     "outputs": []
    },
    {
     "cell_type": "code",
     "collapsed": false,
     "input": [
      "mask = diff_mask & m_mask & f_mask"
     ],
     "language": "python",
     "metadata": {},
     "outputs": []
    },
    {
     "cell_type": "code",
     "collapsed": false,
     "input": [
      "tmp = mean_ratings[mask]"
     ],
     "language": "python",
     "metadata": {},
     "outputs": []
    },
    {
     "cell_type": "code",
     "collapsed": false,
     "input": [
      "tmp"
     ],
     "language": "python",
     "metadata": {},
     "outputs": []
    },
    {
     "cell_type": "code",
     "collapsed": false,
     "input": [
      "tmp['mean'] = tmp['M'] + tmp['F']"
     ],
     "language": "python",
     "metadata": {},
     "outputs": []
    },
    {
     "cell_type": "code",
     "collapsed": false,
     "input": [
      "print tmp.sort('mean', ascending=True)"
     ],
     "language": "python",
     "metadata": {},
     "outputs": []
    }
   ],
   "metadata": {}
  }
 ]
}