{
 "metadata": {
  "name": "",
  "signature": "sha256:85b65df2568e2090a55bd6ec4334a033810d5f903aa68f9fca9e971f7c58c6e9"
 },
 "nbformat": 3,
 "nbformat_minor": 0,
 "worksheets": [
  {
   "cells": [
    {
     "cell_type": "heading",
     "level": 1,
     "metadata": {},
     "source": [
      "Initialize the tutorial"
     ]
    },
    {
     "cell_type": "markdown",
     "metadata": {},
     "source": [
      "This notebook downloads the data from AWS and initializes some settings."
     ]
    },
    {
     "cell_type": "code",
     "collapsed": false,
     "input": [
      "import os\n",
      "import urllib\n",
      "\n",
      "def get(f):\n",
      "    filename = os.path.join('data',f.split('/')[-1])\n",
      "    if not os.path.exists('data'):\n",
      "        os.mkdir('data')\n",
      "    if not os.path.exists(filename):\n",
      "        print 'fetching from aws'\n",
      "        urllib.urlretrieve(f, filename=filename)"
     ],
     "language": "python",
     "metadata": {},
     "outputs": [],
     "prompt_number": 1
    },
    {
     "cell_type": "code",
     "collapsed": false,
     "input": [
      "get('https://s3.amazonaws.com/research_computing_tutorials/hamlet.txt')\n",
      "get('https://s3.amazonaws.com/research_computing_tutorials/users.dat')\n",
      "get('https://s3.amazonaws.com/research_computing_tutorials/movies.dat')\n",
      "get('https://s3.amazonaws.com/research_computing_tutorials/ratings.dat')"
     ],
     "language": "python",
     "metadata": {},
     "outputs": [],
     "prompt_number": 2
    },
    {
     "cell_type": "code",
     "collapsed": false,
     "input": [
      "import os\n",
      "\n",
      "MATPLOTLIBRC = '''\n",
      "patch.linewidth: 0.5\n",
      "patch.facecolor: 348ABD\n",
      "patch.facecolor: white\n",
      "\n",
      "patch.edgecolor: EEEEEE\n",
      "patch.antialiased: True\n",
      "\n",
      "font.size: 10.0\n",
      "\n",
      "axes.facecolor: white\n",
      "axes.edgecolor: white\n",
      "axes.linewidth: 1\n",
      "axes.grid: True\n",
      "axes.titlesize: x-large\n",
      "axes.labelsize: large\n",
      "axes.labelcolor: 555555\n",
      "axes.axisbelow: True       # grid/ticks are below elements (eg lines, text)\n",
      "\n",
      "axes.color_cycle: E24A33, 348ABD, 988ED5, 777777, FBC15E, 8EBA42, FFB5B8\n",
      "                   # E24A33 : red\n",
      "                   # 348ABD : blue\n",
      "                   # 988ED5 : purple\n",
      "                   # 777777 : gray\n",
      "                   # FBC15E : yellow\n",
      "                   # 8EBA42 : green\n",
      "                   # FFB5B8 : pink\n",
      "\n",
      "xtick.color: 555555\n",
      "xtick.direction: out\n",
      "\n",
      "ytick.color: 555555\n",
      "ytick.direction: out\n",
      "\n",
      "grid.color: white\n",
      "grid.linestyle: -    # solid line\n",
      "\n",
      "figure.facecolor: white\n",
      "figure.edgecolor: 0.50\n",
      "\n",
      "legend.scatterpoints: 1\n",
      "legend.frameon: True'''\n",
      "\n",
      "def create_matplotlibrc():\n",
      "\n",
      "    directory = os.path.join(os.environ['HOME'],'.matplotlib')\n",
      "\n",
      "    if not os.path.exists(directory):\n",
      "        os.makedirs(directory)\n",
      "\n",
      "    filename = os.path.join(directory,'matplotlibrc')\n",
      "    with open(filename,'w') as outfile:\n",
      "        outfile.write(MATPLOTLIBRC)\n",
      "\n",
      "create_matplotlibrc()"
     ],
     "language": "python",
     "metadata": {},
     "outputs": [],
     "prompt_number": 3
    },
    {
     "cell_type": "code",
     "collapsed": false,
     "input": [
      "%%writefile utils.py\n",
      "#!/user/bin/env python\n",
      "import os\n",
      "from IPython.core.getipython import get_ipython\n",
      "from matplotlib.figure import Figure\n",
      "import matplotlib.pyplot as plt\n",
      "import pandas as pd\n",
      "\n",
      "def print_fig(fig):\n",
      "    for ax in fig.axes:\n",
      "        for s in ['bottom', 'left', 'top', 'right']:\n",
      "            ax.spines[s].set_linewidth(0.7)\n",
      "            ax.spines[s].set_color('grey')\n",
      "\n",
      "        for s in ['top','right']:\n",
      "            ax.spines[s].set_visible(False)\n",
      "\n",
      "        ax.patch.set_facecolor('1.0')\n",
      "        ax.grid(False)\n",
      "\n",
      "        ax.tick_params(direction='out',\n",
      "                       length=10,\n",
      "                       width=1.,\n",
      "                       colors='grey',\n",
      "                       bottom='on',\n",
      "                       top='off',\n",
      "                       left='on',\n",
      "                       right='off',\n",
      "                       pad=12\n",
      "                       )\n",
      "\n",
      "        if ax.legend_ is not None:\n",
      "            ax.legend_.get_frame().set_linewidth(0)\n",
      "            ax.legend_.get_frame().set_alpha(0.5)\n",
      "\n",
      "def plot_workflow(results):\n",
      "    res = pd.DataFrame(results)\n",
      "    ids = list(set(res['id']))\n",
      "    id_dic = dict( [k,v+0.65] for k,v in zip(ids, range(len(ids))))\n",
      "    fig, ax = plt.subplots(figsize=(8, 6))\n",
      "\n",
      "    tmin = res['start'].min()\n",
      "    for i in res.index:\n",
      "        x_start = res.ix[i]['start'] - tmin\n",
      "        x_end = res.ix[i]['end_time'] - tmin - x_start\n",
      "        x_id = id_dic[res.ix[i]['id']]\n",
      "        ax.add_patch(plt.Rectangle((x_start, x_id), x_end, 0.8, alpha=0.5, color='grey'))\n",
      "\n",
      "    ax.set_ylim(0.5, len(ids)+0.5)\n",
      "    ax.set_xlim(0, res['end_time'].max() - tmin)\n",
      "    ax.set_ylabel(\"Worker\")\n",
      "    ax.set_xlabel(\"seconds\")\n",
      "\n",
      "\n",
      "ip = get_ipython()\n",
      "formatter = ip.display_formatter.formatters['text/html']\n",
      "formatter.for_type(Figure, print_fig)"
     ],
     "language": "python",
     "metadata": {},
     "outputs": [
      {
       "output_type": "stream",
       "stream": "stdout",
       "text": [
        "Overwriting utils.py\n"
       ]
      }
     ],
     "prompt_number": 4
    },
    {
     "cell_type": "code",
     "collapsed": false,
     "input": [],
     "language": "python",
     "metadata": {},
     "outputs": []
    }
   ],
   "metadata": {}
  }
 ]
}