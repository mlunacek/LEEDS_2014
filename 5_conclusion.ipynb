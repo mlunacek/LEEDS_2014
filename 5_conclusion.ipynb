{
 "metadata": {
  "name": "",
  "signature": "sha256:24e7e6248f37313d33f8097131211faf0a5555d4fabf87aa740a3d5999cb2d2b"
 },
 "nbformat": 3,
 "nbformat_minor": 0,
 "worksheets": [
  {
   "cells": [
    {
     "cell_type": "heading",
     "level": 1,
     "metadata": {},
     "source": [
      "Conclusion"
     ]
    },
    {
     "cell_type": "markdown",
     "metadata": {},
     "source": [
      "Lots of new and exciting tools in `python` for data analysis."
     ]
    },
    {
     "cell_type": "heading",
     "level": 2,
     "metadata": {},
     "source": [
      "Resources"
     ]
    },
    {
     "cell_type": "markdown",
     "metadata": {},
     "source": [
      "- [codecademy](http://www.codecademy.com/en/tracks/python)\n",
      "- [Learning Python](http://www.amazon.com/Learning-Python-Edition-Mark-Lutz/dp/1449355730), by Mark Lutz\n",
      "- [Python for Data Analysis](http://www.amazon.com/gp/product/1449319793/ref=pd_lpo_sbs_dp_ss_3?pf_rd_p=1535523722&pf_rd_s=lpo-top-stripe-1&pf_rd_t=201&pf_rd_i=1449355730&pf_rd_m=ATVPDKIKX0DER&pf_rd_r=1AQFVEHH5330HP52WX9N), by  Wes McKinney "
     ]
    },
    {
     "cell_type": "heading",
     "level": 2,
     "metadata": {},
     "source": [
      "Standard Library"
     ]
    },
    {
     "cell_type": "markdown",
     "metadata": {},
     "source": [
      "- `list`, `set`, `dict`, `tuples`\n",
      "- regular expressions (`re`)"
     ]
    },
    {
     "cell_type": "heading",
     "level": 2,
     "metadata": {},
     "source": [
      "Packages"
     ]
    },
    {
     "cell_type": "markdown",
     "metadata": {},
     "source": [
      "- [IPython](http://ipython.org)\n",
      "- [numpy](http://www.numpy.org/)\n",
      "- [scipy](http://www.scipy.org/)\n",
      "- [pandas](http://pandas.pydata.org/)\n",
      "- [matplotlib](http://matplotlib.org/)\n",
      "- [scikit-learn](http://scikit-learn.org/)\n",
      "- [statsmodels](http://statsmodels.sourceforge.net/)\n",
      "- [pyspark](https://spark.apache.org/)\n",
      "- [jinja2](http://jinja.pocoo.org/docs/dev/)\n",
      "- [flask](http://flask.pocoo.org/)\n",
      "- [mpi4py](http://mpi4py.scipy.org/)\n",
      "- [Ipython.parallel](http://ipython.org/ipython-doc/dev/parallel/)"
     ]
    },
    {
     "cell_type": "heading",
     "level": 2,
     "metadata": {},
     "source": [
      "Distributions"
     ]
    },
    {
     "cell_type": "markdown",
     "metadata": {},
     "source": [
      "- [anaconda](https://store.continuum.io/cshop/anaconda/)\n",
      "- [enthought](https://www.enthought.com/)"
     ]
    },
    {
     "cell_type": "code",
     "collapsed": false,
     "input": [],
     "language": "python",
     "metadata": {},
     "outputs": []
    }
   ],
   "metadata": {}
  }
 ]
}