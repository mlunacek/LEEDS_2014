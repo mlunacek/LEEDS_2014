{
 "metadata": {
  "name": "",
  "signature": "sha256:6fd1bc8b8a9d1752db555bcae6666cd3e4a259d469e0a7894886ea5bb1293b48"
 },
 "nbformat": 3,
 "nbformat_minor": 0,
 "worksheets": [
  {
   "cells": [
    {
     "cell_type": "heading",
     "level": 1,
     "metadata": {},
     "source": [
      "Simple Analysis: Introduction to Python"
     ]
    },
    {
     "cell_type": "heading",
     "level": 2,
     "metadata": {
      "slideshow": {
       "slide_type": "slide"
      }
     },
     "source": [
      "Scientific Hello World"
     ]
    },
    {
     "cell_type": "code",
     "collapsed": false,
     "input": [
      "from __future__ import print_function\n",
      "import math\n",
      "r = float(\"4.2\")\n",
      "s = math.sin(r)\n",
      "print('hello world! The sin({0}) = {1:0.2f}'.format(r,s))"
     ],
     "language": "python",
     "metadata": {},
     "outputs": [
      {
       "output_type": "stream",
       "stream": "stdout",
       "text": [
        "hello world! The sin(4.2) = -0.87\n"
       ]
      }
     ],
     "prompt_number": 3
    },
    {
     "cell_type": "markdown",
     "metadata": {},
     "source": [
      "There is a lot happening here!  "
     ]
    },
    {
     "cell_type": "heading",
     "level": 2,
     "metadata": {
      "slideshow": {
       "slide_type": "slide"
      }
     },
     "source": [
      "Data Analysis Hello World"
     ]
    },
    {
     "cell_type": "markdown",
     "metadata": {},
     "source": [
      "How many unique words are in Hamlet?"
     ]
    },
    {
     "cell_type": "code",
     "collapsed": false,
     "input": [
      "hamlet = os.path.join('data','hamlet.txt')"
     ],
     "language": "python",
     "metadata": {},
     "outputs": [],
     "prompt_number": 4
    },
    {
     "cell_type": "code",
     "collapsed": false,
     "input": [
      "import re\n",
      "words = re.findall(r'\\w+', open(hamlet).read().lower())\n",
      "\n",
      "print(len(set(words)), 'unique words')"
     ],
     "language": "python",
     "metadata": {},
     "outputs": [
      {
       "output_type": "stream",
       "stream": "stdout",
       "text": [
        "4086 unique words\n"
       ]
      }
     ],
     "prompt_number": 5
    },
    {
     "cell_type": "markdown",
     "metadata": {},
     "source": [
      "- string conversion\n",
      "- regular expressions\n",
      "- sets"
     ]
    },
    {
     "cell_type": "heading",
     "level": 3,
     "metadata": {
      "slideshow": {
       "slide_type": "slide"
      }
     },
     "source": [
      "Frequency of words?"
     ]
    },
    {
     "cell_type": "markdown",
     "metadata": {},
     "source": [
      "Words greater than lenth `2`"
     ]
    },
    {
     "cell_type": "code",
     "collapsed": false,
     "input": [
      "long_words = []\n",
      "for w in words:\n",
      "    if len(w) > 2:\n",
      "        long_words.append(w)\n",
      "        \n",
      "print(len(long_words))"
     ],
     "language": "python",
     "metadata": {},
     "outputs": [
      {
       "output_type": "stream",
       "stream": "stdout",
       "text": [
        "21135\n"
       ]
      }
     ],
     "prompt_number": 7
    },
    {
     "cell_type": "markdown",
     "metadata": {},
     "source": [
      "We can also use python's functional style."
     ]
    },
    {
     "cell_type": "code",
     "collapsed": false,
     "input": [
      "words = filter(lambda x: len(x)>2, words)\n",
      "\n",
      "print(len(words))"
     ],
     "language": "python",
     "metadata": {},
     "outputs": [
      {
       "output_type": "stream",
       "stream": "stdout",
       "text": [
        "21135\n"
       ]
      }
     ],
     "prompt_number": 9
    },
    {
     "cell_type": "markdown",
     "metadata": {},
     "source": [
      "Counting words\n",
      "\n",
      "A favorite python data structure, the `dicionary`."
     ]
    },
    {
     "cell_type": "code",
     "collapsed": false,
     "input": [
      "d = {}\n",
      "for w in words:\n",
      "    if w in d:\n",
      "        d[w] += 1\n",
      "    else:\n",
      "        d[w] = 1\n",
      "\n",
      "print(len(d))"
     ],
     "language": "python",
     "metadata": {},
     "outputs": [
      {
       "output_type": "stream",
       "stream": "stdout",
       "text": [
        "4027\n"
       ]
      }
     ],
     "prompt_number": 10
    },
    {
     "cell_type": "markdown",
     "metadata": {},
     "source": [
      "Using the `get` method."
     ]
    },
    {
     "cell_type": "code",
     "collapsed": false,
     "input": [
      "d = dict()\n",
      "for w in words:\n",
      "    d[w] = d.get(w,0) + 1\n",
      "\n",
      "print(len(d))"
     ],
     "language": "python",
     "metadata": {},
     "outputs": [
      {
       "output_type": "stream",
       "stream": "stdout",
       "text": [
        "4027\n"
       ]
      }
     ],
     "prompt_number": 11
    },
    {
     "cell_type": "markdown",
     "metadata": {},
     "source": [
      "- get(key, default)"
     ]
    },
    {
     "cell_type": "heading",
     "level": 2,
     "metadata": {
      "slideshow": {
       "slide_type": "slide"
      }
     },
     "source": [
      "Sorting dictionarys"
     ]
    },
    {
     "cell_type": "markdown",
     "metadata": {},
     "source": [
      "A list of pairs"
     ]
    },
    {
     "cell_type": "code",
     "collapsed": false,
     "input": [
      "print( d.items()[:5])"
     ],
     "language": "python",
     "metadata": {},
     "outputs": [
      {
       "output_type": "stream",
       "stream": "stdout",
       "text": [
        "[('forgone', 1), ('pardon', 6), ('nunnery', 5), ('lunacies', 1), ('doubts', 1)]\n"
       ]
      }
     ],
     "prompt_number": 13
    },
    {
     "cell_type": "markdown",
     "metadata": {},
     "source": [
      "We can use the `sorted` method on a `list`."
     ]
    },
    {
     "cell_type": "code",
     "collapsed": false,
     "input": [
      "sorted(d.items())[:10]"
     ],
     "language": "python",
     "metadata": {},
     "outputs": [
      {
       "metadata": {},
       "output_type": "pyout",
       "prompt_number": 15,
       "text": [
        "[('abate', 1),\n",
        " ('abatements', 1),\n",
        " ('aboard', 3),\n",
        " ('abominably', 1),\n",
        " ('about', 13),\n",
        " ('above', 4),\n",
        " ('abridgement', 1),\n",
        " ('abroad', 1),\n",
        " ('abstinence', 1),\n",
        " ('abstract', 1)]"
       ]
      }
     ],
     "prompt_number": 15
    },
    {
     "cell_type": "markdown",
     "metadata": {},
     "source": [
      "But we want it sorted by a different `key`."
     ]
    },
    {
     "cell_type": "code",
     "collapsed": false,
     "input": [
      "def sort_key(pair):\n",
      "    return pair[1]\n",
      "\n",
      "sorted(d.items(), key=sort_key, reverse=True)[:10]"
     ],
     "language": "python",
     "metadata": {},
     "outputs": [
      {
       "metadata": {},
       "output_type": "pyout",
       "prompt_number": 17,
       "text": [
        "[('the', 930),\n",
        " ('and', 843),\n",
        " ('you', 496),\n",
        " ('hamlet', 368),\n",
        " ('that', 346),\n",
        " ('lord', 278),\n",
        " ('not', 262),\n",
        " ('his', 238),\n",
        " ('this', 238),\n",
        " ('with', 232)]"
       ]
      }
     ],
     "prompt_number": 17
    },
    {
     "cell_type": "markdown",
     "metadata": {},
     "source": [
      "Or use an **anonymous function**, `lambda`"
     ]
    },
    {
     "cell_type": "code",
     "collapsed": false,
     "input": [
      "sorted_items = sorted(d.items(), key=lambda x: x[1], reverse=True)[:10]\n",
      "\n",
      "sorted_items"
     ],
     "language": "python",
     "metadata": {},
     "outputs": [
      {
       "metadata": {},
       "output_type": "pyout",
       "prompt_number": 22,
       "text": [
        "[('the', 930),\n",
        " ('and', 843),\n",
        " ('you', 496),\n",
        " ('hamlet', 368),\n",
        " ('that', 346),\n",
        " ('lord', 278),\n",
        " ('not', 262),\n",
        " ('his', 238),\n",
        " ('this', 238),\n",
        " ('with', 232)]"
       ]
      }
     ],
     "prompt_number": 22
    },
    {
     "cell_type": "markdown",
     "metadata": {},
     "source": [
      "- lambdas\n",
      "- map"
     ]
    },
    {
     "cell_type": "heading",
     "level": 2,
     "metadata": {
      "slideshow": {
       "slide_type": "slide"
      }
     },
     "source": [
      "Wrangling"
     ]
    },
    {
     "cell_type": "markdown",
     "metadata": {},
     "source": [
      "We need to pull out the `values` and the word `labels`."
     ]
    },
    {
     "cell_type": "code",
     "collapsed": false,
     "input": [
      "sorted_items = sorted(d.items(), key=lambda x: x[1], reverse=True)\n",
      "\n",
      "labels = []\n",
      "values = []\n",
      "for label, value in sorted_items[:20]:\n",
      "    labels.append(label)\n",
      "    values.append(value)\n",
      "\n",
      "print(values), print(labels)"
     ],
     "language": "python",
     "metadata": {},
     "outputs": [
      {
       "output_type": "stream",
       "stream": "stdout",
       "text": [
        "[930, 843, 496, 368, 346, 278, 262, 238, 238, 232, 232, 215, 211, 186, 171, 160, 149, 134, 124, 112]\n",
        "['the', 'and', 'you', 'hamlet', 'that', 'lord', 'not', 'his', 'this', 'with', 'but', 'for', 'your', 'what', 'king', 'him', 'have', 'will', 'polonius', 'horatio']\n"
       ]
      },
      {
       "metadata": {},
       "output_type": "pyout",
       "prompt_number": 26,
       "text": [
        "(None, None)"
       ]
      }
     ],
     "prompt_number": 26
    },
    {
     "cell_type": "markdown",
     "metadata": {},
     "source": [
      "Or use the functional `map`."
     ]
    },
    {
     "cell_type": "code",
     "collapsed": false,
     "input": [
      "values = map(lambda x: x[1], sorted_items[:20])\n",
      "labels = map(lambda x: x[0], sorted_items[:20])\n",
      "\n",
      "print( len(labels), len(values))"
     ],
     "language": "python",
     "metadata": {},
     "outputs": [
      {
       "output_type": "stream",
       "stream": "stdout",
       "text": [
        "20 20\n"
       ]
      }
     ],
     "prompt_number": 27
    },
    {
     "cell_type": "code",
     "collapsed": false,
     "input": [
      "print(values), print(labels)"
     ],
     "language": "python",
     "metadata": {},
     "outputs": [
      {
       "output_type": "stream",
       "stream": "stdout",
       "text": [
        "[930, 843, 496, 368, 346, 278, 262, 238, 238, 232, 232, 215, 211, 186, 171, 160, 149, 134, 124, 112]\n",
        "['the', 'and', 'you', 'hamlet', 'that', 'lord', 'not', 'his', 'this', 'with', 'but', 'for', 'your', 'what', 'king', 'him', 'have', 'will', 'polonius', 'horatio']\n"
       ]
      },
      {
       "metadata": {},
       "output_type": "pyout",
       "prompt_number": 28,
       "text": [
        "(None, None)"
       ]
      }
     ],
     "prompt_number": 28
    },
    {
     "cell_type": "heading",
     "level": 3,
     "metadata": {},
     "source": [
      "List Comprehension"
     ]
    },
    {
     "cell_type": "code",
     "collapsed": false,
     "input": [
      "values = [ x[1] for x in sorted_items[:20] ]\n",
      "labels = [ x[0] for x in sorted_items[:20] ]"
     ],
     "language": "python",
     "metadata": {},
     "outputs": [],
     "prompt_number": 18
    },
    {
     "cell_type": "markdown",
     "metadata": {},
     "source": [
      "- another favorite: list comprehension!\n",
      "- selection"
     ]
    },
    {
     "cell_type": "heading",
     "level": 3,
     "metadata": {
      "slideshow": {
       "slide_type": "slide"
      }
     },
     "source": [
      "Visualize"
     ]
    },
    {
     "cell_type": "code",
     "collapsed": false,
     "input": [
      "%matplotlib inline\n",
      "import matplotlib.pyplot as plt\n",
      "import utils"
     ],
     "language": "python",
     "metadata": {},
     "outputs": [],
     "prompt_number": 32
    },
    {
     "cell_type": "code",
     "collapsed": false,
     "input": [
      "plt.barh(range(len(values)), values, color='grey')\n",
      "plt.yticks(range(len(values)), labels)\n",
      "plt.show()"
     ],
     "language": "python",
     "metadata": {},
     "outputs": [
      {
       "metadata": {},
       "output_type": "display_data",
       "png": "[encoded data removed]",
       "text": [
        "<matplotlib.figure.Figure at 0x107d27ed0>"
       ]
      }
     ],
     "prompt_number": 33
    },
    {
     "cell_type": "heading",
     "level": 2,
     "metadata": {
      "slideshow": {
       "slide_type": "slide"
      }
     },
     "source": [
      "What did we do?"
     ]
    },
    {
     "cell_type": "markdown",
     "metadata": {},
     "source": [
      "- Raw data\n",
      "    - `read()`\n",
      "    - `re`\n",
      "- Processing (*wrangling*)\n",
      "    - `filter`\n",
      "- Analysis\n",
      "    - counting\n",
      "    - `dictionary` \n",
      "    - `sorting`\n",
      "- Visualization\n",
      "    - `matplotlib`"
     ]
    },
    {
     "cell_type": "markdown",
     "metadata": {},
     "source": [
      "**Methods**: R, Python, Matlab, IDL, Excel,..."
     ]
    },
    {
     "cell_type": "markdown",
     "metadata": {},
     "source": [
      "**Python**: \n",
      "+ notebook, numpy, matplotlib, pandas, scikit-learn, \n",
      "+ pyspark, ipython parallel"
     ]
    }
   ],
   "metadata": {}
  }
 ]
}