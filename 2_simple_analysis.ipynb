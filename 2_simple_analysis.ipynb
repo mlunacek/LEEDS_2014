{
 "metadata": {
  "name": "",
  "signature": "sha256:cefa23c34e006d9ab8150b93be0d4a6761890ff37bde31b82676144fa256a6cc"
 },
 "nbformat": 3,
 "nbformat_minor": 0,
 "worksheets": [
  {
   "cells": [
    {
     "cell_type": "heading",
     "level": 1,
     "metadata": {},
     "source": [
      "Simple Analysis: Introduction to Python"
     ]
    },
    {
     "cell_type": "heading",
     "level": 2,
     "metadata": {
      "slideshow": {
       "slide_type": "slide"
      }
     },
     "source": [
      "Scientific Hello World"
     ]
    },
    {
     "cell_type": "code",
     "collapsed": false,
     "input": [
      "from __future__ import print_function\n",
      "import math\n",
      "r = float(\"4.2\")\n",
      "s = math.sin(r)\n",
      "print('hello world! The sin({0}) = {1:0.2f}'.format(r,s))"
     ],
     "language": "python",
     "metadata": {},
     "outputs": []
    },
    {
     "cell_type": "markdown",
     "metadata": {},
     "source": [
      "There is a lot happening here!  "
     ]
    },
    {
     "cell_type": "heading",
     "level": 2,
     "metadata": {
      "slideshow": {
       "slide_type": "slide"
      }
     },
     "source": [
      "Data Analysis Hello World"
     ]
    },
    {
     "cell_type": "markdown",
     "metadata": {},
     "source": [
      "How many unique words are in Hamlet?"
     ]
    },
    {
     "cell_type": "code",
     "collapsed": false,
     "input": [
      "import os\n",
      "import urllib\n",
      "\n",
      "def get(f):\n",
      "    filename = os.path.join('data',f.split('/')[-1])\n",
      "    if not os.path.exists('data'):\n",
      "        os.mkdir('data')\n",
      "    if not os.path.exists(filename):\n",
      "        print('fetching from aws')\n",
      "        urllib.urlretrieve(f, filename=filename)\n",
      "        \n",
      "get('https://s3.amazonaws.com/research_computing_tutorials/hamlet.txt')"
     ],
     "language": "python",
     "metadata": {},
     "outputs": []
    },
    {
     "cell_type": "code",
     "collapsed": false,
     "input": [
      "import os\n",
      "hamlet = os.path.join('data','hamlet.txt')"
     ],
     "language": "python",
     "metadata": {},
     "outputs": []
    },
    {
     "cell_type": "code",
     "collapsed": false,
     "input": [
      "import re\n",
      "words = re.findall(r'[a-z0-9]+', open(hamlet).read().lower())\n",
      "\n",
      "print(len(set(words)), 'unique words')"
     ],
     "language": "python",
     "metadata": {},
     "outputs": []
    },
    {
     "cell_type": "markdown",
     "metadata": {},
     "source": [
      "- string conversion\n",
      "- regular expressions\n",
      "- sets"
     ]
    },
    {
     "cell_type": "heading",
     "level": 3,
     "metadata": {
      "slideshow": {
       "slide_type": "slide"
      }
     },
     "source": [
      "Frequency of words?"
     ]
    },
    {
     "cell_type": "markdown",
     "metadata": {},
     "source": [
      "Words greater than lenth `2`"
     ]
    },
    {
     "cell_type": "code",
     "collapsed": false,
     "input": [
      "long_words = []\n",
      "for w in words:\n",
      "    if len(w) > 2:\n",
      "        long_words.append(w)\n",
      "        \n",
      "print(len(long_words))"
     ],
     "language": "python",
     "metadata": {},
     "outputs": []
    },
    {
     "cell_type": "markdown",
     "metadata": {},
     "source": [
      "We can also use python's functional style."
     ]
    },
    {
     "cell_type": "code",
     "collapsed": false,
     "input": [
      "words = filter(lambda x: len(x)>2, words)\n",
      "\n",
      "print(len(words))"
     ],
     "language": "python",
     "metadata": {},
     "outputs": []
    },
    {
     "cell_type": "markdown",
     "metadata": {},
     "source": [
      "Counting words\n",
      "\n",
      "A favorite python data structure, the `dicionary`."
     ]
    },
    {
     "cell_type": "code",
     "collapsed": false,
     "input": [
      "d = {}\n",
      "for w in words:\n",
      "    if w in d:\n",
      "        d[w] += 1\n",
      "    else:\n",
      "        d[w] = 1\n",
      "\n",
      "print(len(d))"
     ],
     "language": "python",
     "metadata": {},
     "outputs": []
    },
    {
     "cell_type": "markdown",
     "metadata": {},
     "source": [
      "Using the `get` method."
     ]
    },
    {
     "cell_type": "code",
     "collapsed": false,
     "input": [
      "d = dict()\n",
      "for w in words:\n",
      "    d[w] = d.get(w,0) + 1\n",
      "\n",
      "print(len(d))"
     ],
     "language": "python",
     "metadata": {},
     "outputs": []
    },
    {
     "cell_type": "markdown",
     "metadata": {},
     "source": [
      "- get(key, default)"
     ]
    },
    {
     "cell_type": "heading",
     "level": 2,
     "metadata": {
      "slideshow": {
       "slide_type": "slide"
      }
     },
     "source": [
      "Sorting dictionarys"
     ]
    },
    {
     "cell_type": "markdown",
     "metadata": {},
     "source": [
      "A list of pairs"
     ]
    },
    {
     "cell_type": "code",
     "collapsed": false,
     "input": [
      "print( d.items()[:5])"
     ],
     "language": "python",
     "metadata": {},
     "outputs": []
    },
    {
     "cell_type": "markdown",
     "metadata": {},
     "source": [
      "We can use the `sorted` method on a `list`."
     ]
    },
    {
     "cell_type": "code",
     "collapsed": false,
     "input": [
      "sorted(d.items())[:10]"
     ],
     "language": "python",
     "metadata": {},
     "outputs": []
    },
    {
     "cell_type": "markdown",
     "metadata": {},
     "source": [
      "But we want it sorted by a different `key`."
     ]
    },
    {
     "cell_type": "code",
     "collapsed": false,
     "input": [
      "def sort_key(pair):\n",
      "    return pair[1]\n",
      "\n",
      "sorted(d.items(), key=sort_key, reverse=True)[:10]"
     ],
     "language": "python",
     "metadata": {},
     "outputs": []
    },
    {
     "cell_type": "markdown",
     "metadata": {},
     "source": [
      "Or use an **anonymous function**, `lambda`"
     ]
    },
    {
     "cell_type": "code",
     "collapsed": false,
     "input": [
      "sorted_items = sorted(d.items(), key=lambda x: x[1], reverse=True)[:10]\n",
      "\n",
      "sorted_items"
     ],
     "language": "python",
     "metadata": {},
     "outputs": []
    },
    {
     "cell_type": "markdown",
     "metadata": {},
     "source": [
      "- lambdas\n",
      "- map"
     ]
    },
    {
     "cell_type": "heading",
     "level": 2,
     "metadata": {
      "slideshow": {
       "slide_type": "slide"
      }
     },
     "source": [
      "Wrangling"
     ]
    },
    {
     "cell_type": "markdown",
     "metadata": {},
     "source": [
      "We need to pull out the `values` and the word `labels`."
     ]
    },
    {
     "cell_type": "code",
     "collapsed": false,
     "input": [
      "sorted_items = sorted(d.items(), key=lambda x: x[1], reverse=True)\n",
      "\n",
      "labels = []\n",
      "values = []\n",
      "for label, value in sorted_items[:20]:\n",
      "    labels.append(label)\n",
      "    values.append(value)\n",
      "\n",
      "print(values), print(labels)"
     ],
     "language": "python",
     "metadata": {},
     "outputs": []
    },
    {
     "cell_type": "markdown",
     "metadata": {},
     "source": [
      "Or use the functional `map`."
     ]
    },
    {
     "cell_type": "code",
     "collapsed": false,
     "input": [
      "values = map(lambda x: x[1], sorted_items[:20])\n",
      "labels = map(lambda x: x[0], sorted_items[:20])\n",
      "\n",
      "print( len(labels), len(values))"
     ],
     "language": "python",
     "metadata": {},
     "outputs": []
    },
    {
     "cell_type": "code",
     "collapsed": false,
     "input": [
      "print(values), print(labels)"
     ],
     "language": "python",
     "metadata": {},
     "outputs": []
    },
    {
     "cell_type": "heading",
     "level": 3,
     "metadata": {},
     "source": [
      "List Comprehension"
     ]
    },
    {
     "cell_type": "code",
     "collapsed": false,
     "input": [
      "values = [ x[1] for x in sorted_items[:20] ]\n",
      "labels = [ x[0] for x in sorted_items[:20] ]"
     ],
     "language": "python",
     "metadata": {},
     "outputs": []
    },
    {
     "cell_type": "markdown",
     "metadata": {},
     "source": [
      "- another favorite: list comprehension!\n",
      "- selection"
     ]
    },
    {
     "cell_type": "heading",
     "level": 3,
     "metadata": {
      "slideshow": {
       "slide_type": "slide"
      }
     },
     "source": [
      "Visualize"
     ]
    },
    {
     "cell_type": "code",
     "collapsed": false,
     "input": [
      "%matplotlib inline\n",
      "import matplotlib.pyplot as plt\n",
      "try:\n",
      "    import utils\n",
      "except ImportError:\n",
      "    pass"
     ],
     "language": "python",
     "metadata": {},
     "outputs": []
    },
    {
     "cell_type": "code",
     "collapsed": false,
     "input": [
      "plt.barh(range(len(values)), values, color='grey')\n",
      "plt.yticks(range(len(values)), labels)\n",
      "plt.show()"
     ],
     "language": "python",
     "metadata": {},
     "outputs": []
    },
    {
     "cell_type": "heading",
     "level": 2,
     "metadata": {
      "slideshow": {
       "slide_type": "slide"
      }
     },
     "source": [
      "What did we do?"
     ]
    },
    {
     "cell_type": "markdown",
     "metadata": {},
     "source": [
      "- Raw data\n",
      "    - `read()`\n",
      "    - `re`\n",
      "- Processing (*wrangling*)\n",
      "    - `filter`\n",
      "- Analysis\n",
      "    - counting\n",
      "    - `dictionary` \n",
      "    - `sorting`\n",
      "- Visualization\n",
      "    - `matplotlib`"
     ]
    },
    {
     "cell_type": "markdown",
     "metadata": {},
     "source": [
      "**Methods**: R, Python, Matlab, IDL, Excel,..."
     ]
    },
    {
     "cell_type": "markdown",
     "metadata": {},
     "source": [
      "**Python**: \n",
      "+ notebook, numpy, matplotlib, pandas, scikit-learn, \n",
      "+ pyspark, ipython parallel"
     ]
    },
    {
     "cell_type": "code",
     "collapsed": false,
     "input": [],
     "language": "python",
     "metadata": {},
     "outputs": []
    }
   ],
   "metadata": {}
  }
 ]
}