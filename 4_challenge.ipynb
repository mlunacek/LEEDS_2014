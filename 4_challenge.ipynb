{
 "metadata": {
  "name": "",
  "signature": "sha256:6b09ccb799cc0601f4678c01b0ee337272dbde78507218222836204edc4cabf2"
 },
 "nbformat": 3,
 "nbformat_minor": 0,
 "worksheets": [
  {
   "cells": [
    {
     "cell_type": "heading",
     "level": 1,
     "metadata": {},
     "source": [
      "Challange"
     ]
    },
    {
     "cell_type": "markdown",
     "metadata": {},
     "source": [
      "You have 20 minutes to play around with the notebook."
     ]
    },
    {
     "cell_type": "heading",
     "level": 2,
     "metadata": {},
     "source": [
      "Getting started"
     ]
    },
    {
     "cell_type": "markdown",
     "metadata": {},
     "source": [
      "[`dictionaries`](http://nbviewer.ipython.org/github/ResearchComputing/meetup_spring_2014/blob/master/notebooks/exercise_01_dictionary.ipynb)\n",
      "\n",
      "[matplotlib](http://researchcomputing.github.io/meetup_spring_2014/python/doc_mpl.html)\n",
      "\n"
     ]
    },
    {
     "cell_type": "heading",
     "level": 2,
     "metadata": {},
     "source": [
      "Regular Expressions"
     ]
    },
    {
     "cell_type": "markdown",
     "metadata": {},
     "source": [
      "http://www.tutorialspoint.com/python/python_reg_expressions.htm"
     ]
    },
    {
     "cell_type": "code",
     "collapsed": false,
     "input": [
      "import re\n",
      "\n",
      "line = \"Cats are smarter than dogs\"\n",
      "\n",
      "matchObj = re.match( r'(.*) are (.*?) .*', line)\n",
      "\n",
      "if matchObj:\n",
      "   print \"matchObj.group() : \", matchObj.group()\n",
      "   print \"matchObj.group(1) : \", matchObj.group(1)\n",
      "   print \"matchObj.group(2) : \", matchObj.group(2)\n",
      "else:\n",
      "   print \"No match!!\""
     ],
     "language": "python",
     "metadata": {},
     "outputs": [
      {
       "output_type": "stream",
       "stream": "stdout",
       "text": [
        "matchObj.group() :  Cats are smarter than dogs\n",
        "matchObj.group(1) :  Cats\n",
        "matchObj.group(2) :  smarter\n"
       ]
      }
     ],
     "prompt_number": 8
    },
    {
     "cell_type": "heading",
     "level": 2,
     "metadata": {},
     "source": [
      "Array computing with `numpy`."
     ]
    },
    {
     "cell_type": "markdown",
     "metadata": {},
     "source": [
      "Learn the basics of pyhtons more important underlying data structure.\n",
      "\n",
      "http://wiki.scipy.org/Tentative_NumPy_Tutorial"
     ]
    },
    {
     "cell_type": "heading",
     "level": 2,
     "metadata": {},
     "source": [
      "Wrangle data with `pandas`."
     ]
    },
    {
     "cell_type": "markdown",
     "metadata": {},
     "source": [
      "Spend 10 minutes the pandas tutorial.  You can cut and paste as into the notebook."
     ]
    },
    {
     "cell_type": "markdown",
     "metadata": {},
     "source": [
      "http://pandas.pydata.org/pandas-docs/stable/10min.html"
     ]
    },
    {
     "cell_type": "code",
     "collapsed": false,
     "input": [
      "import pandas as pd\n",
      "import numpy as np\n",
      "import matplotlib.pyplot as plt"
     ],
     "language": "python",
     "metadata": {},
     "outputs": [],
     "prompt_number": 9
    },
    {
     "cell_type": "code",
     "collapsed": false,
     "input": [
      "s = pd.Series([1,3,5,np.nan,6,8])\n",
      "s"
     ],
     "language": "python",
     "metadata": {},
     "outputs": [
      {
       "metadata": {},
       "output_type": "pyout",
       "prompt_number": 10,
       "text": [
        "0     1\n",
        "1     3\n",
        "2     5\n",
        "3   NaN\n",
        "4     6\n",
        "5     8\n",
        "dtype: float64"
       ]
      }
     ],
     "prompt_number": 10
    },
    {
     "cell_type": "heading",
     "level": 2,
     "metadata": {},
     "source": [
      "Machine Learning with `sklearn`"
     ]
    },
    {
     "cell_type": "markdown",
     "metadata": {},
     "source": [
      "Try one of these: http://scikit-learn.org/stable/tutorial/\n",
      "\n",
      "You'll have to copy and paste from the web, for example:"
     ]
    },
    {
     "cell_type": "code",
     "collapsed": false,
     "input": [
      "from sklearn import datasets\n",
      "\n",
      "iris = datasets.load_iris()\n",
      "print(iris.feature_names)\n",
      "print(iris.data[:10])  "
     ],
     "language": "python",
     "metadata": {},
     "outputs": [
      {
       "output_type": "stream",
       "stream": "stdout",
       "text": [
        "['sepal length (cm)', 'sepal width (cm)', 'petal length (cm)', 'petal width (cm)']\n",
        "[[ 5.1  3.5  1.4  0.2]\n",
        " [ 4.9  3.   1.4  0.2]\n",
        " [ 4.7  3.2  1.3  0.2]\n",
        " [ 4.6  3.1  1.5  0.2]\n",
        " [ 5.   3.6  1.4  0.2]\n",
        " [ 5.4  3.9  1.7  0.4]\n",
        " [ 4.6  3.4  1.4  0.3]\n",
        " [ 5.   3.4  1.5  0.2]\n",
        " [ 4.4  2.9  1.4  0.2]\n",
        " [ 4.9  3.1  1.5  0.1]]\n"
       ]
      }
     ],
     "prompt_number": 3
    },
    {
     "cell_type": "code",
     "collapsed": false,
     "input": [],
     "language": "python",
     "metadata": {},
     "outputs": []
    }
   ],
   "metadata": {}
  }
 ]
}