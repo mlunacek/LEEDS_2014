{
 "metadata": {
  "name": "",
  "signature": "sha256:30e679785b6fe922cd8e0e0f08cca379e1eb09fe62e2b7b7cab9b041b9925ad8"
 },
 "nbformat": 3,
 "nbformat_minor": 0,
 "worksheets": [
  {
   "cells": [
    {
     "cell_type": "heading",
     "level": 1,
     "metadata": {},
     "source": [
      "Challange"
     ]
    },
    {
     "cell_type": "code",
     "collapsed": false,
     "input": [],
     "language": "python",
     "metadata": {},
     "outputs": []
    }
   ],
   "metadata": {}
  }
 ]
}