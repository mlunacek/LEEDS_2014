{
 "metadata": {
  "name": "",
  "signature": "sha256:b89a15ce7603caf45259c4223cf2e160bba46860e7793a1dbbaa1138d6c26ee4"
 },
 "nbformat": 3,
 "nbformat_minor": 0,
 "worksheets": [
  {
   "cells": [
    {
     "cell_type": "heading",
     "level": 1,
     "metadata": {},
     "source": [
      "Update"
     ]
    },
    {
     "cell_type": "markdown",
     "metadata": {},
     "source": [
      "Get the latest copy from `github`."
     ]
    },
    {
     "cell_type": "code",
     "collapsed": false,
     "input": [
      "import urllib\n",
      "import glob\n",
      "\n",
      "def get(f):\n",
      "    filename = f.split('/')[-1]\n",
      "    urllib.urlretrieve(f, filename=filename)\n",
      "    \n",
      "url = 'https://raw.githubusercontent.com/mlunacek/LEEDS_2014/master/'\n",
      "files = glob.glob('*.ipynb')\n",
      "files.remove('0_update.ipynb')\n",
      "fullpath = map(lambda x: url+x, files)\n",
      "res = map(get, files)\n",
      "\n",
      "#print(files)\n",
      "#urllib.urlretrieve(f, filename=filename)"
     ],
     "language": "python",
     "metadata": {},
     "outputs": [
      {
       "output_type": "stream",
       "stream": "stdout",
       "text": [
        "['0_initialize.ipynb', '1_introduction.ipynb', '2_simple_analysis.ipynb', '3_in-depth_analysis.ipynb', '4_challenge.ipynb', '5_conclusion.ipynb']\n"
       ]
      }
     ],
     "prompt_number": 8
    },
    {
     "cell_type": "code",
     "collapsed": false,
     "input": [],
     "language": "python",
     "metadata": {},
     "outputs": []
    }
   ],
   "metadata": {}
  }
 ]
}