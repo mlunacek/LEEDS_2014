{
 "metadata": {
  "name": "",
  "signature": "sha256:ed349ff3949e1c269e0090f751157cbf84284c51b512b2e29762a4b3f8a9f070"
 },
 "nbformat": 3,
 "nbformat_minor": 0,
 "worksheets": [
  {
   "cells": [
    {
     "cell_type": "heading",
     "level": 1,
     "metadata": {},
     "source": [
      "Update"
     ]
    },
    {
     "cell_type": "markdown",
     "metadata": {},
     "source": [
      "Get the latest copy from `github`."
     ]
    },
    {
     "cell_type": "code",
     "collapsed": false,
     "input": [
      "import urllib\n",
      "import glob\n",
      "\n",
      "def get(f):\n",
      "    print(f)\n",
      "    filename = f.split('/')[-1]\n",
      "    urllib.urlretrieve(f, filename=filename)\n",
      "    \n",
      "url = 'https://raw.githubusercontent.com/mlunacek/LEEDS_2014/master/'\n",
      "files = glob.glob('*.ipynb')\n",
      "files.remove('0_update.ipynb')\n",
      "print(files)\n",
      "fullpath = map(lambda x: url+x, files)\n",
      "res = map(get, fullpath)\n"
     ],
     "language": "python",
     "metadata": {},
     "outputs": [
      {
       "output_type": "stream",
       "stream": "stdout",
       "text": [
        "['0_initialize.ipynb', '1_introduction.ipynb', '2_simple_analysis.ipynb', '3_in-depth_analysis.ipynb', '4_challenge.ipynb', '5_conclusion.ipynb']\n",
        "https://raw.githubusercontent.com/mlunacek/LEEDS_2014/master/0_initialize.ipynb\n",
        "https://raw.githubusercontent.com/mlunacek/LEEDS_2014/master/1_introduction.ipynb"
       ]
      },
      {
       "output_type": "stream",
       "stream": "stdout",
       "text": [
        "\n",
        "https://raw.githubusercontent.com/mlunacek/LEEDS_2014/master/2_simple_analysis.ipynb"
       ]
      },
      {
       "output_type": "stream",
       "stream": "stdout",
       "text": [
        "\n",
        "https://raw.githubusercontent.com/mlunacek/LEEDS_2014/master/3_in-depth_analysis.ipynb"
       ]
      },
      {
       "output_type": "stream",
       "stream": "stdout",
       "text": [
        "\n",
        "https://raw.githubusercontent.com/mlunacek/LEEDS_2014/master/4_challenge.ipynb"
       ]
      },
      {
       "output_type": "stream",
       "stream": "stdout",
       "text": [
        "\n",
        "https://raw.githubusercontent.com/mlunacek/LEEDS_2014/master/5_conclusion.ipynb"
       ]
      },
      {
       "output_type": "stream",
       "stream": "stdout",
       "text": [
        "\n"
       ]
      }
     ],
     "prompt_number": 8
    },
    {
     "cell_type": "code",
     "collapsed": false,
     "input": [
      "!dir"
     ],
     "language": "python",
     "metadata": {},
     "outputs": [
      {
       "output_type": "stream",
       "stream": "stdout",
       "text": [
        " Volume in drive C is Windows7\n",
        " Volume Serial Number is 1856-2FD5\n",
        "\n",
        " Directory of C:\\Users\\conflts\\Downloads\\LEEDS_2014-master\n",
        "\n",
        "09/11/2014  07:41 PM    <DIR>          .\n",
        "09/11/2014  07:41 PM    <DIR>          ..\n",
        "09/11/2014  07:44 PM    <DIR>          .ipynb_checkpoints\n",
        "09/11/2014  07:47 PM             5,489 0_initialize.ipynb\n",
        "09/11/2014  07:46 PM             2,812 0_update.ipynb\n",
        "09/11/2014  07:47 PM            12,752 1_introduction.ipynb\n",
        "09/11/2014  07:47 PM            24,558 2_simple_analysis.ipynb\n",
        "09/11/2014  07:47 PM            49,953 3_in-depth_analysis.ipynb\n",
        "09/11/2014  07:47 PM               499 4_challenge.ipynb\n",
        "09/11/2014  07:47 PM             2,767 5_conclusion.ipynb\n",
        "09/11/2014  07:41 PM    <DIR>          data\n",
        "09/06/2014  06:01 AM               121 README.md\n",
        "09/11/2014  07:41 PM             1,127 utils.py\n",
        "               9 File(s)        100,078 bytes\n",
        "               4 Dir(s)  200,005,521,408 bytes free\n"
       ]
      }
     ],
     "prompt_number": 10
    },
    {
     "cell_type": "code",
     "collapsed": false,
     "input": [],
     "language": "python",
     "metadata": {},
     "outputs": []
    }
   ],
   "metadata": {}
  }
 ]
}